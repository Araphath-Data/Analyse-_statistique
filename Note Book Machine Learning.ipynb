{
 "cells": [
  {
   "cell_type": "markdown",
   "id": "60425d29",
   "metadata": {},
   "source": [
    "# **Chapitre 1 : Géneralité sur le Machine Learning** \n",
    "**Définition** : Le Machine Learning est le champs d'etude qui donne la capacité aux ordinateurs d'apprendre sans etre explicitement programmer à apprendre.Autrement dit c'est une branche de l'intelligence artificielle qui permet à l'ordinateur d'apprendre à partir des exemples, des données. Il a été vulgariser pour  la première fois par Arthur Samuel en 1959.\n",
    "\n",
    "## **1-1 Les categories d'apprentissage** <br>\n",
    "Les categories d'apprentissage en machine learning est divisé en trois grande categorie : \n",
    "- **L'apprentisssage supervisé** : qui permet d'entrainer un modele de ML à partir des données etiquetté  , <br>\n",
    "- **L'apprentisage non supervisé** : permet d'entrainer un modele de ML à partir des données non etiquetté  , <br>\n",
    "- **L'apprentissage par renforcement** : entrainer le modele à prendre des decisons en tenant compte du milieu dans lequel il evolue \n",
    "## **1-2 Les domaines d'application du Machine Learning** \n",
    "Le mpachine learning est present dans tout les domaines.Ainsi, il permet par exemple : <br>\n",
    "- aux banque à travers una application de detecter les fraudes via les carte bancaires, <br> \n",
    "- aux entreprises de vente de predire la demande, <br>\n",
    "## **1-3 Les étapes pour developper un modele de Machine Learning**\n",
    "Pour developper un modele de Machine Learning il existe principalement huites (08) étapes :  \n",
    "**Etape 1** : Definir l'objectif du modele (Pourquoi je veux créer le modele de Machine Learning), <br>\n",
    "**Etape 2** : Collecter les données, <br>\n",
    "**Etape 3** : Traitement des données (regarder les variables manquantes, les variables abberante, les anomalies), <br>\n",
    "**Etape 4** : Selectionner des variables pertinantes pour repondre à la problematique, <br>\n",
    "**Etape 5** : Choisir les modeles approprié et passer à la phase d'entrainement, <br>\n",
    "**Etape 6** : Choisir le modele le plus adapté après avoir entrainer les modele selectionner, <br>\n",
    "**Etape 7** : Validation du modele, <br>\n",
    "**Etape 8** : L'implementation du modele en production \n"
   ]
  },
  {
   "cell_type": "markdown",
   "id": "800fed17",
   "metadata": {},
   "source": [
    "# **Chapitre 2 : Numpy en data science**"
   ]
  },
  {
   "cell_type": "markdown",
   "id": "96b56233",
   "metadata": {},
   "source": [
    "Numpy (abreviation de Numerical Python) est la bibliothèque de référence en python pour les calcul scientifique et la manopulation efficace des données numerique. C'est la base de plusieurs autre librairie comme : Pandas, SciPy <br>\n",
    "Pour utiliser numpy dans python, il faut l'importer avec la syntaxe : "
   ]
  },
  {
   "cell_type": "code",
   "execution_count": null,
   "id": "5a1120eb",
   "metadata": {},
   "outputs": [],
   "source": [
    "import numpy as np"
   ]
  },
  {
   "cell_type": "markdown",
   "id": "bca65177",
   "metadata": {},
   "source": [
    "Avec cette syntaxe, on a importer numpy et on l'a renommé np (c'est la convention universelle)"
   ]
  },
  {
   "cell_type": "markdown",
   "id": "9dc40892",
   "metadata": {},
   "source": [
    "## **2-1 Création de tableau avec Numpy**\n",
    "Pour créer un tableau avec Numpy, il existe deux méthodes : <br>\n",
    "**Méthode 1** : On crée les tables Numpy basé sur des listes \n"
   ]
  },
  {
   "cell_type": "code",
   "execution_count": null,
   "id": "f51ea130",
   "metadata": {},
   "outputs": [],
   "source": [
    "#Ex : Création à partir d'une liste \n",
    "liste = [1, 2, 3, 4, 5]\n",
    "tab_avec_liste = np.array(liste)\n",
    "print(tab_avec_liste)"
   ]
  },
  {
   "cell_type": "markdown",
   "id": "fcfce645",
   "metadata": {},
   "source": [
    "**Méthode 2** : On crée les tables à partir des fonctions integrées "
   ]
  },
  {
   "cell_type": "code",
   "execution_count": null,
   "id": "3b7cb443",
   "metadata": {},
   "outputs": [],
   "source": [
    "#Créer une table numpy avec la fonction zeros\n",
    "tab_zero = np.zeros((3,3))\n",
    "print(tab_zero)"
   ]
  },
  {
   "cell_type": "markdown",
   "id": "d9faed43",
   "metadata": {},
   "source": [
    "Comme on peut le voir, cette fonction permet de créer une table remplir de zero il faut juste preciser en argument le nombre de ligne et de colonne. Par ailleur la fonction ones permet de créer une table numpy remplir de un suivant le même principe"
   ]
  },
  {
   "cell_type": "code",
   "execution_count": null,
   "id": "583c1618",
   "metadata": {},
   "outputs": [],
   "source": [
    "#Créer une matrice identité avec numpy\n",
    "mat_diagonal = np.eye(6)\n",
    "print(mat_diagonal)"
   ]
  },
  {
   "cell_type": "markdown",
   "id": "02ebf09e",
   "metadata": {},
   "source": [
    "Cette fonction permet de créer la matrice identité, on precise en argument l'ordre de la matrice qu'on souhaite créer "
   ]
  },
  {
   "cell_type": "code",
   "execution_count": null,
   "id": "c5e48c87",
   "metadata": {},
   "outputs": [],
   "source": [
    "#Créer une liste dans une plage de valeurs avec des pas \n",
    "liste_plage = np.arange(0,11,2)\n",
    "print(liste_plage)"
   ]
  },
  {
   "cell_type": "markdown",
   "id": "f9963907",
   "metadata": {},
   "source": [
    "La fonction arange permet de créer une liste en conderant une plage de valeur, elle peut permettre de fixer un pas entre les nombres"
   ]
  },
  {
   "cell_type": "code",
   "execution_count": null,
   "id": "f7f6cb95",
   "metadata": {},
   "outputs": [],
   "source": [
    "#Créer une table avec la fonction linspace \n",
    "tab_lin = np.linspace(0, 1, 5)\n",
    "print(tab_lin)"
   ]
  },
  {
   "cell_type": "markdown",
   "id": "5b58b6f5",
   "metadata": {},
   "source": [
    "La fonction linspace permet de créer des valeurs equidistant entre une valeur minimale et une valeur maximale <br>\n",
    "**NB** : Il y a une difference à preciser entre la fonction arange et la fonction linspace. Le troisieme argument de la fonction arange precise le pas entre les nombres qui se suivent alors que le troisieme argument de la fonction linspace precise le nombre totale de valeur qu'on souhaite afficher entre la valeur minimale et la valeur maximale "
   ]
  },
  {
   "cell_type": "code",
   "execution_count": null,
   "id": "b2a83850",
   "metadata": {},
   "outputs": [],
   "source": [
    "#Créer une matrice dont les valeur sont aléatoir \n",
    "mat_ale = np.random.randint(0,10, (3,3))\n",
    "print(mat_ale)"
   ]
  },
  {
   "cell_type": "markdown",
   "id": "e95c956a",
   "metadata": {},
   "source": [
    "## **2-2 Fonction mathématique et statistique avec Numpy**\n",
    "Les fonctions mathématique avec numpy sont : "
   ]
  },
  {
   "cell_type": "code",
   "execution_count": null,
   "id": "d4052698",
   "metadata": {},
   "outputs": [],
   "source": [
    "ex = np.random.randint(0, 10, size = (3,3))\n",
    "print(ex)\n",
    "ex_sum = np.sum(ex) #Pour faire la somme des élements de la liste \n",
    "print(ex_sum)\n",
    "ex_mean = np.mean(ex) #Pour calculer la moyenne des elements de la liste \n",
    "print(ex_mean)\n",
    "ex_std = np.std(ex) #Pour calculer l'ecart type des elements de la liste \n",
    "print(ex_std)\n",
    "ex_min = np.min(ex) #Pour trouver le minimum des elements de la liste\n",
    "print(ex_min)\n",
    "ex_max = np.max(ex) #Pour trouver le maximun des elements de la liste\n",
    "print(ex_max)\n",
    "ex_sqrt = np.sqrt(ex) #Pour la racine carrée \n",
    "print(ex_sqrt)\n",
    "ex_abs = np.abs(ex)\n",
    "print(ex_abs)\n",
    "ex_power = np.power(ex, 2)\n",
    "print(ex_power)\n",
    "ex_exp = np.exp(ex)\n",
    "print(ex_exp)\n",
    "ex_log = np.log(np.abs(ex))\n",
    "print(ex_log)\n",
    "ex_sin = np.sin(ex)\n",
    "print(ex_sin)\n",
    "ex_median = np.median(ex)\n",
    "print(ex_median)"
   ]
  },
  {
   "cell_type": "markdown",
   "id": "cc6a6ac6",
   "metadata": {},
   "source": [
    " ## **2-3 Manipulation des matrices avec Numpy**\n",
    " Numpy permet egalement de faire des operations sur des matrice. Ainsi, on peut faire le produit de deux matrices avec la fonction dot de numpy. La syntaxe donne :    "
   ]
  },
  {
   "cell_type": "code",
   "execution_count": null,
   "id": "bdd337f5",
   "metadata": {},
   "outputs": [],
   "source": [
    "#Produit matriciel\n",
    "matrice = np.random.randint(0,10 , size = (3,3)) #Création d'une matrice carrée d'ordre 3 dont les valeurs sont aleatoires et comprises entre 0 et 9\n",
    "produit_matrice = np.dot(matrice , matrice)\n",
    "print(produit_matrice)"
   ]
  },
  {
   "cell_type": "markdown",
   "id": "41227032",
   "metadata": {},
   "source": [
    "Pour faire la transposée d'une matrice on utilise la fonction transpose. La syntaxe est : "
   ]
  },
  {
   "cell_type": "code",
   "execution_count": null,
   "id": "205ea86e",
   "metadata": {},
   "outputs": [],
   "source": [
    "#Transposée d'une matrice \n",
    "matrice1 = np.random.randint(0,10 , size = (2,3))\n",
    "print(matrice1)\n",
    "matrice_transposée = np.transpose(matrice1)\n",
    "print(matrice_transposée)"
   ]
  },
  {
   "cell_type": "markdown",
   "id": "485d4203",
   "metadata": {},
   "source": [
    "Numpy permet egalement d'inverser une matrice grace à la fonction linalg.inv. Pour inverser une matrice avec Numpy voici le code à ecrire : "
   ]
  },
  {
   "cell_type": "code",
   "execution_count": null,
   "id": "895edf65",
   "metadata": {},
   "outputs": [],
   "source": [
    "#Inverser une matrice \n",
    "matrice2 = np.random.randint(0,9, size = (3,3))\n",
    "print(matrice2)\n",
    "inv_matrice2 = np.linalg.inv(matrice2)\n",
    "print(inv_matrice2)"
   ]
  },
  {
   "cell_type": "markdown",
   "id": "de119cce",
   "metadata": {},
   "source": [
    "Pour trouver le determinant d'une matrice grace a Numpy, il faut appliquer la fonction linalg.det. La syntaxe donne : "
   ]
  },
  {
   "cell_type": "code",
   "execution_count": null,
   "id": "66698488",
   "metadata": {},
   "outputs": [],
   "source": [
    "#Determinant d'une matrice \n",
    "matrice3 = np.random.randint(0,10 , size =(3,3))\n",
    "print(matrice3)\n",
    "det_matrice3 = np.linalg.det(matrice3)\n",
    "print(det_matrice3)"
   ]
  },
  {
   "cell_type": "markdown",
   "id": "9c8daf10",
   "metadata": {},
   "source": [
    "## **2-4 Acceder aux éléments, sélectionner, modifier et mettre à jour un tableau numpy**"
   ]
  },
  {
   "cell_type": "code",
   "execution_count": null,
   "id": "60f85eff",
   "metadata": {},
   "outputs": [],
   "source": [
    "#Acceder aux elements \n",
    "matrice4 = np.array ([\n",
    "    [1,2,3],\n",
    "    [4,5,6],\n",
    "    [7,8,9]\n",
    "])\n",
    "matrice4[0,0]"
   ]
  },
  {
   "cell_type": "code",
   "execution_count": null,
   "id": "c533a469",
   "metadata": {},
   "outputs": [],
   "source": [
    "#Modifier un element \n",
    "matrice4[0] = [0,1,4]\n",
    "print(matrice4)"
   ]
  },
  {
   "cell_type": "markdown",
   "id": "730a19ad",
   "metadata": {},
   "source": [
    "Ce faisant, j'ai remplacé la liste [1,2,3] par la liste [0,1,4]"
   ]
  },
  {
   "cell_type": "markdown",
   "id": "e6fc0f15",
   "metadata": {},
   "source": [
    "## **2-5 Faire des filtres sur un tableau Numpy selon des conditions**\n",
    "Dans une table Numpy, on peut extraire des valeurs qui respectent une condition specifique. Dans la syntaxe suivante, je vais ecrire le script qui permet de le faire. \n"
   ]
  },
  {
   "cell_type": "code",
   "execution_count": null,
   "id": "ab22803f",
   "metadata": {},
   "outputs": [],
   "source": [
    "matrice5 = np.random.randint(0,10, size = (3,3))\n",
    "print(matrice5)\n",
    "#Afficher uniquement les valeurs inferieurs à 2\n",
    "print(matrice5[matrice5 < 2])"
   ]
  },
  {
   "cell_type": "markdown",
   "id": "e03440fc",
   "metadata": {},
   "source": [
    "# **Chapitre 3 : Pandas en data science**"
   ]
  },
  {
   "cell_type": "markdown",
   "id": "6c00a321",
   "metadata": {},
   "source": [
    "**Pandas** est la bibliothèque de Python qui permet de manipuler les données. Elle permet de faire des statistique basique sur des tables. La première des choses à faire pour utiliser pandas est de l'importer avec la syntaxe : "
   ]
  },
  {
   "cell_type": "code",
   "execution_count": null,
   "id": "f9a99128",
   "metadata": {},
   "outputs": [],
   "source": [
    "import pandas as pd"
   ]
  },
  {
   "cell_type": "markdown",
   "id": "895c9d7d",
   "metadata": {},
   "source": [
    "## **3-1 Créer un data frame avec pandas**\n",
    "Pour créer un dat frame avec pandas il existe deux methodes, la première à partir des dictionnaires et la deuxième à partir des fichier excel, csv, json etc...  <br> <br>\n",
    "\n",
    "**Méthode 1 :** Data frame avec les dictionnaires. <br>\n",
    "Prenons l'exemple d'un groupe d'etudiant avec leurs notes en statistique."
   ]
  },
  {
   "cell_type": "code",
   "execution_count": null,
   "id": "125bf8f9",
   "metadata": {},
   "outputs": [],
   "source": [
    "etudiant = {\n",
    "    'Nom' : ['ABOUDOU', 'AWE', 'YASSAOHO', 'AVOHOUEME', 'TOGNIZIN'],\n",
    "    'Prenoms' : ['Sanni Araphath', 'David','Idelphonse', 'Géovanie', 'Aimé'],\n",
    "    'Notes en statistique' : [17, 2, -20, 4, 3]\n",
    "\n",
    "}\n",
    "df_etudiant = pd.DataFrame(etudiant)\n",
    "print(df_etudiant)\n"
   ]
  },
  {
   "cell_type": "markdown",
   "id": "94619ac9",
   "metadata": {},
   "source": [
    "**Méthode 2** : Data Frame avec un csv <br> \n",
    "**Pandas** permet d'importer les donnée à partie de plusieurs type de fichier. Prenons ici l'exemple d'un fichier csv "
   ]
  },
  {
   "cell_type": "code",
   "execution_count": null,
   "id": "9d3be4ff",
   "metadata": {},
   "outputs": [],
   "source": [
    "df = pd.read_excel(r\"E:\\vaccination_benin.xlsx\")\n",
    "print(df)\n"
   ]
  },
  {
   "cell_type": "markdown",
   "id": "801c92e0",
   "metadata": {},
   "source": [
    "## **3-2 : Statistique descriptive avec Pandas**"
   ]
  },
  {
   "cell_type": "markdown",
   "id": "1c6320f6",
   "metadata": {},
   "source": [
    "Pour faire la statistique desciptive avec Panda on utilise la fonction df.descibe()"
   ]
  },
  {
   "cell_type": "code",
   "execution_count": null,
   "id": "39c218ea",
   "metadata": {},
   "outputs": [],
   "source": [
    "df.describe()"
   ]
  },
  {
   "cell_type": "markdown",
   "id": "0b50d156",
   "metadata": {},
   "source": [
    "## **3-3 : Fusion et jointure de Data Frame**"
   ]
  },
  {
   "cell_type": "markdown",
   "id": "bbd284d9",
   "metadata": {},
   "source": [
    "Généralement en tant que data scientist on travail sur plusieurs table et on a besoin de les fusionner. En python avec le package Pandas, in a la fonction pd.merg qui permet de fusionner deux tables. "
   ]
  },
  {
   "cell_type": "code",
   "execution_count": null,
   "id": "4771be21",
   "metadata": {},
   "outputs": [],
   "source": [
    "data1 = {\n",
    "    \"ID\" : [1, 2, 3, 4, 5], \n",
    "    'Nom' : ['Araphath', 'Ramane', 'Faiza', 'Youssouf', 'Mazida']\n",
    "}\n",
    "\n",
    "data2 = {\n",
    "    \"ID\" : [3, 4, 5, 6], \n",
    "    \"Ville\" : ['Savè', 'Parakou', 'Tchaourou', 'Kilibo']\n",
    "}\n",
    "df1 = pd.DataFrame(data1)\n",
    "df2 = pd.DataFrame(data2)\n",
    "df1, df2\n",
    "#Effectuer une jointure interne (inner join)\n",
    "inner_join = df1.merge(df2, on = 'ID' , how = 'inner')\n",
    "inner_join\n",
    "#Effectuer une jointure externe (outer join)\n",
    "outer_join = df1.merge(df2, on = 'ID' , how = 'outer')\n",
    "outer_join\n",
    "#Effectuer une jointure gauche (left join)\n",
    "left_join = df1.merge(df2, on = 'ID' , how = 'left')\n",
    "left_join\n",
    "#Effectuer une jointure droite (right join)\n",
    "right_join = df1.merge(df2, on = 'ID' , how = 'right')\n",
    "right_join\n",
    "#Pour enregistrer la base en csv \n",
    "tezst = df.to_csv('test1')"
   ]
  },
  {
   "cell_type": "markdown",
   "id": "28ac4e17",
   "metadata": {},
   "source": [
    "# **Chapitre 4 : Matplotlib en data science**"
   ]
  },
  {
   "cell_type": "markdown",
   "id": "a0a908b0",
   "metadata": {},
   "source": [
    "Matplotlib est une bibliothèque Python open-source pour créer des graphiques. Très utilisée en data science, machine learnig, Statistique et analyse de données, elle permet de tracer des graphique simplemais aussi des visualisations complexes en 2D et 3D. La première des chose à faire avant de l'utiliser est de l'importer avec la syntaxe : "
   ]
  },
  {
   "cell_type": "code",
   "execution_count": null,
   "id": "e5738854",
   "metadata": {},
   "outputs": [],
   "source": [
    "import matplotlib.pyplot as plt"
   ]
  },
  {
   "cell_type": "markdown",
   "id": "916453cd",
   "metadata": {},
   "source": [
    "## **4-1 : Tracer un graphique simple avec matplotlib**\n",
    "Pour créer une graphique avec matplotlib il faut d'abord avoir des donées. Pour ce faire nous allons utilisés numpy pour générer de manière aleatoir les données que nous allons utilisé pour notre graphique. "
   ]
  },
  {
   "cell_type": "code",
   "execution_count": null,
   "id": "71405881",
   "metadata": {},
   "outputs": [],
   "source": [
    "x = np.linspace(0, 100, 1000)\n",
    "y = np.exp(x)\n",
    "plt.plot(x,y)"
   ]
  },
  {
   "cell_type": "markdown",
   "id": "db18007e",
   "metadata": {},
   "source": [
    "## **4-2 : Changer la taille d'un graphique avec la largeur et la hauteur de la figure en pouce** \n",
    "On peut deja modifier la taille de notre graphique et avec matplotlib on a la fonction plt.figure(figsize = (H, L))"
   ]
  },
  {
   "cell_type": "code",
   "execution_count": null,
   "id": "13c07337",
   "metadata": {},
   "outputs": [],
   "source": [
    "plt.figure(figsize = (10,10))\n",
    "plt.plot(x,y)"
   ]
  },
  {
   "cell_type": "markdown",
   "id": "e2c2b743",
   "metadata": {},
   "source": [
    "## **4-3 : Donner un titre aux graphique avec matplotlib**\n",
    " "
   ]
  },
  {
   "cell_type": "markdown",
   "id": "035bfa42",
   "metadata": {},
   "source": [
    "## **4-3 : Donner un titre aux graphique avec matplotlib**\n",
    " "
   ]
  },
  {
   "cell_type": "code",
   "execution_count": null,
   "id": "aad85a96",
   "metadata": {},
   "outputs": [],
   "source": [
    "plt.title('Fonction exponentielle')\n",
    "plt.xlabel('Axes des abscisse') #Pour donner un nom à l'axe des x\n",
    "plt.ylabel('Axes des ordonnées') #Pour donner un nom à l'axe des y \n",
    "plt.plot(x,y)"
   ]
  },
  {
   "cell_type": "markdown",
   "id": "ce7fe736",
   "metadata": {},
   "source": [
    "## **4-4 : Changer de couleur pour la courbe**\n",
    "Pour changer la couleur de la courbe, c'est très simple. Il faut juste ajouter une option couleur (c) à plt.plot(x,y). Donc si je souhaite avoir une courbe de couleur rouge, ma syntaxe sera : \n",
    " "
   ]
  },
  {
   "cell_type": "code",
   "execution_count": null,
   "id": "e377fdb3",
   "metadata": {},
   "outputs": [],
   "source": [
    "plt.plot(x, y, c = 'red')"
   ]
  },
  {
   "cell_type": "markdown",
   "id": "9cb90c97",
   "metadata": {},
   "source": [
    "## **4-4 : Ajouter une legende**"
   ]
  },
  {
   "cell_type": "code",
   "execution_count": null,
   "id": "4c6d8a03",
   "metadata": {},
   "outputs": [],
   "source": [
    "plt.plot(x, y,  label = 'exp', c = 'red',ls = '-')"
   ]
  },
  {
   "cell_type": "markdown",
   "id": "472572c4",
   "metadata": {},
   "source": [
    "# **Chapitre 5 : Les conceptes de base en statistique**\n",
    "## **5-1 Quelques definitons clées**\n",
    "Les statistique sont important pour un data scientist. On va donc ommencer par definir quelque conceptes clé en statistique. <br>\n",
    "**Population** : c'est l'ensembles exausthive des unités statistique qu'on souhaite analyser. A titre des exemple si on se retrouve dans une entreprise, la population peut etre l'ensemble des clients.<br>\n",
    "**Echantillon** : c'est un sous ensemble de la population selectionné pour etudier et representer la population. L'echantillon doit etre representatif de la population. <br>\n",
    "**Difference entre Paramètre et Statistique** : Le paramètre est une caracteristique numerique de la population qui est inconnu alors que la statistique est une caracteristique numerique de l'echantillon qui permet d'estimer avec une marge d'erreur le paramètre de la population. <br>\n",
    "**Variables** : c'est une caracteristique commune a tout les individus d'une base de données mais qui diffère d'un individu à un autre. \n",
    "## **5-2 Notion de variables en statistque** \n",
    "En statistique une variable est definit come une caracteristique commune à tous les individus d'une base de données qui varie d'un individu à l'autre. Il existe deux grandes familles de variables en statistique, Nous avons les **variables qualitatives** et les **variables quantitatives** <br>\n",
    "**Variables qualitatives** : sont des variables qui peuvent pas etre mesurer. Par exemple le sexe, c'est juste femme ou homme, on peut pas mesurer ou quantifié le sexe donc c'est une variable qualitative. <br>\n",
    "Dans la famille des variables qualitative on a les variables qualitative nominale et les variables qualitative ordinale. <br>\n",
    "Les variables qualitative nominale sont des variables dont les modalités n'ont pas d'ordre entre elles. Prenons toujours l'exemple du sexe, c'est une variable qualitative nominale car il n'y a pas un ordre entre les deux modalités. <br>\n",
    "Quant aux variables qualitative ordinale, se sont des variables dont les modalités ont un ordre precis, prenons l'exemple des mention à un examen, on a : insuffisant, passable, assez bien, bien, très bien, excellent. Il existe un ordre entre ces modalité alors la variables mention à l'examen est une variable qualitative ordinale. <br>\n",
    "**Variables quantitative** : Contrairement aux variables qualitative, ce sont des variables qu'on peut quantifier. Dans cette famille de variable, on a egalement deux typee de variables : les variables quantitatives continues et les variables quantitatve discrète. Les variables quantitative discrète sont des variables qui peuvebt prendre des valeurs finies. On a par exemple le nombre d'enfant dans une famille. Quant aux variables quantitatives continues, elle prennent un nombres infinies de valeurs dans un interval donné.\n"
   ]
  },
  {
   "cell_type": "markdown",
   "id": "5edfca22",
   "metadata": {},
   "source": [
    "## **5-3 Les types de graphiques qu'on peut faire pour chaque type de variables**"
   ]
  },
  {
   "cell_type": "code",
   "execution_count": 2,
   "id": "352c6c46",
   "metadata": {},
   "outputs": [],
   "source": [
    "import numpy as np\n",
    "import pandas as pd\n",
    "import matplotlib.pylab as plt \n",
    "import seaborn as sns "
   ]
  },
  {
   "cell_type": "markdown",
   "id": "ea688078",
   "metadata": {},
   "source": [
    "Sur les variables qualitatives nominal, on peut faire les deux graphiques suivantes : \n",
    "- Diagramme en barre \n",
    "- Cammemberg,Grapgique en secteur ou pie chart"
   ]
  },
  {
   "cell_type": "markdown",
   "id": "7bdf2c54",
   "metadata": {},
   "source": [
    "Sur les variables qualitatives ordinale, on peut faire les graphiques suivantes : \n",
    "- Diagramme en barre \n",
    "- Cammemberg,Grapgique en secteur ou pie chart lorsqui'il y a moins de 6 modalité"
   ]
  },
  {
   "cell_type": "markdown",
   "id": "a0982d4f",
   "metadata": {},
   "source": [
    "Sur les variables quantitative discrète, on peut faire les  graphiques suivantes : \n",
    "- Histogramme \n",
    "- Box plot"
   ]
  },
  {
   "cell_type": "code",
   "execution_count": 15,
   "id": "3db7c20e",
   "metadata": {},
   "outputs": [],
   "source": [
    "#Chargement des données \n",
    "titanic = sns.load_dataset('titanic')\n",
    "tips = sns.load_dataset('tips')\n",
    "iris = sns.load_dataset('iris')"
   ]
  },
  {
   "cell_type": "markdown",
   "id": "b14cec1f",
   "metadata": {},
   "source": [
    "### **Graphique adaptées pour les variables qualitatives**"
   ]
  },
  {
   "cell_type": "code",
   "execution_count": 14,
   "id": "e915964d",
   "metadata": {},
   "outputs": [
    {
     "data": {
      "image/png": "[encoded data removed]",
      "text/plain": [
       "<Figure size 800x600 with 1 Axes>"
      ]
     },
     "metadata": {},
     "output_type": "display_data"
    }
   ],
   "source": [
    "#Diagramme en barre\n",
    "plt.figure(figsize=(8,6))\n",
    "ax = sns.countplot(x = \"species\", data = iris)\n",
    "plt.title('Nombre de fleurs par categorie')\n",
    "#Ajouter le nombre de chaque categorie sur la barre\n",
    "for p in ax.patches : \n",
    "    ax.annotate(format(p.get_height(), ' .0f'), (p.get_x() + p.get_width() / 2., p.get_height()),\n",
    "                ha = 'center', xytext = (0, 10), textcoords = 'offset points')"
   ]
  },
  {
   "cell_type": "markdown",
   "id": "13e1dd94",
   "metadata": {},
   "source": [
    "# **Chapitre 6 : Les statistique en Python, Tendance centrale et dispersion**\n",
    "Lorsqu'on prends une base de données la premières des questions à se poser c'est : à quoi ressemble mon individue moyen ? et comment les autres individus s'articulent autour de cet indivudus moyen. Et pour pouvoir repondre à ces question, il y a les indicateur de tendance centrale et les indicayeurs de dispersion. Comme inicateur centrale à calculer, on a : \n",
    "- La moyenne (fiable à condition qu'on ait pas des valeurs extreme), \n",
    "- La mediane (Compense les insuffisances de la moyenne, elle divise les données en deux parties égales), \n",
    "- Le mode (donne la valeur la plus frequente autor de la population)\n",
    "\n",
    "## **6-1 Autres mesure de tendance centrale** \n",
    "- **La moyenne ponderée** : c'est la somme des produits de chaque valeur et de son poids, divisée par la somme des poids. Elle est utiliséé l'orsque certaines valeurs ont plud d'importance que 'autres dans un ensemble de données.\n",
    "- **La moyenne géometrique** : N-ième racine du produit des N valeurs. Utilisée pour representer la tendance centrale de données multiplicative ou pour des données dont les valeurs varient sur plusieurs ordres de grandeur \n",
    "- **La moyenne harmonique** : c'est l'inverse de la moyenne arithmetique des inverses de chaque valeur. Utiliisé pour representer la tendance centrale de données pour lesquelles la valeur la plus basse a une grande importance.\n",
    "- **Moyenne quadratique** : c'est la racine carrée de la moyenne des valeurs. Utilisé pour des données ou les valeurs négative et positives se compensent"
   ]
  },
  {
   "cell_type": "markdown",
   "id": "37078a70",
   "metadata": {},
   "source": [
    "## **6-2 Les indicateurs de dispersion**\n",
    "- **La variance** : donne des information sur la manière dont les individus sont dispersés autour de la moyenne. Plus la variance est élévée plus les individus sont dispersés autour de la moyenne. \n",
    "- **L'ecart type**: c'est tout simplement la racine carrée de la moyenne. Plus l'ecart type est élévé plus les individus sont dispersés autour de la moyenne \n",
    "- **L'intervalle inter-quantile** : il mesure l'etendue de la distribution centrale des données.   "
   ]
  },
  {
   "cell_type": "markdown",
   "id": "4115e0c8",
   "metadata": {},
   "source": [
    "## **6-3 Mettre en place les indicateurs** "
   ]
  },
  {
   "cell_type": "markdown",
   "id": "bbddb518",
   "metadata": {},
   "source": [
    "### **LES INICATEURS DE TENDANCE CENTRALES**"
   ]
  },
  {
   "cell_type": "code",
   "execution_count": null,
   "id": "7cb25cb3",
   "metadata": {},
   "outputs": [],
   "source": [
    "#Utilisé la fonction .describ pour afficher les inddicateurs \n",
    "summary = iris.describe()\n",
    "summary"
   ]
  },
  {
   "cell_type": "code",
   "execution_count": 4,
   "id": "1dcf742c",
   "metadata": {},
   "outputs": [
    {
     "data": {
      "text/plain": [
       "Text(0.5, 1.0, 'Detection des valeurs abberantes avec boxplot')"
      ]
     },
     "execution_count": 4,
     "metadata": {},
     "output_type": "execute_result"
    },
    {
     "data": {
      "image/png": "[encoded data removed]",
      "text/plain": [
       "<Figure size 800x600 with 1 Axes>"
      ]
     },
     "metadata": {},
     "output_type": "display_data"
    }
   ],
   "source": [
    "#Mettre en place un box plot pour affciher les valeurs abberantes \n",
    "data = [1, 12, 15, 14, 10, 13, 125, 18, 19, 17, 22, 14, 200, 15, 20]\n",
    "df_data = pd.DataFrame(data, columns=['Valeurs'])\n",
    "#Box_plot\n",
    "plt.figure(figsize=(8,6))\n",
    "sns.boxplot(x = df_data['Valeurs'], color = 'skyblue')\n",
    "plt.title('Detection des valeurs abberantes avec boxplot')"
   ]
  },
  {
   "cell_type": "markdown",
   "id": "ce3bb059",
   "metadata": {},
   "source": [
    "# **Chapitre 7 : Les lois de probabilité en statistique**\n",
    "Lorsqu'on travail en statistique, on travail generalement sur un echantillon de la population. Cet echantillon doit etre representatif de la population et tiré de facon aleatoire. Qui parle d'aléa par du hasard et qui parle du hasard parle de probabilité.\n",
    "\n",
    "## **7-1 Loi Normale**\n",
    "- La loi normale est une distributuion de probabilité continue symétrique en forme de cloche. Elle est definie par deux paramètres : la moyenne $\\mu$ et l'ecart-tyoe $\\sigma$ \n",
    "- La moyenne d'une distribution normale est representée par le paramètre $\\mu$ \n",
    "- La loie normale standard a pour moyenne 0\n",
    "- La variance d'une distribution normale est representée par le carrée de l'ecart type \n",
    "- La loie normale standard a pour variance 1\n",
    "- La loie normale est symetrie ce qui veut dire qu'elle a une asymetrie de 0\n",
    "- La loie normale a un aplatissement kurtosis de 3\n",
    "- La fonction de densité est : \n",
    "$$\n",
    "f(x) = \\frac{1}{\\sigma \\sqrt{2\\pi}} \\exp \\left(-\\frac{(x- \\mu)^2}{2 \\sigma^2} \\right)\n",
    "$$\n",
    "\n",
    "## **7-2 Loi du chi-2** \n",
    "La loi du $ \\chi^2 $ est une distribution de probabilité continue utilisée principalement en statistique et en inference statistique. Elle est efinie par un seul paramètre : le nombre de degrés de liberté (k). La loi du $ \\chi^2 $ est une distribution asymetrique qui prend uniquement des valeurs positives et sa forme depend du nombre de degré de liberté. \n",
    "- La moyenne d'une distribution de $ \\chi^2$ est égale au nombre e dégré e liberté soit k\n",
    "- La variance d'une distributiondu $ \\chi^2 $ est donnée par l'equation suivante : variance = 2k\n",
    "## **7-3 Loi de student** \n",
    "La loi de student, egalement connue sous le nom de t-distribution, est une distribution de prbabilité continue qu ressemble àla loi normale mais presente des queues plus epaisse. Elle est définie par un seule paramètre : le nombre de degré de liberté v. La t-distribution est symetrique et centré autour de 0 et sa bforme depend du nombre de dégré de liberté. \n",
    "- La moyenne d'une distribution de studente est égale à 0 \n",
    "- La variance d'une distribution de studente est données par : \n",
    "$$ \n",
    "Variance = \\frac{v}{v - 2}\n",
    "$$\n",
    "- Relation entre la loi normale, la loi du khi2 et la loi de student : Si X est une variable aléatoire qui suit une loi normal centrée reduite et Y une var aleatoire independante qui suite une loi du $$ \\chi^2 $$ avec v degré de liberté, aloors la var aleatoire definir par : \n",
    "$$ \n",
    "t = \\frac{X}{\\sqrt{Y/v}}\n",
    "$$\n",
    "## **7-4 Loi de Fisher** \n",
    "La loi de fisher est define comme le rapport de deux loi du $ \\chi^2 $. Elle est efinie par deux paramètres : les dégrés de liberté du numerateur et les degrés de libertés du dénominateur. La F-distribution est asymetrie et prend uniquement des valeurs positives.\n",
    "- La moyenne d'une distribution de fisher est : \n",
    "$$\n",
    "moyenne = \\frac {d_2}{d_2 - 4}\n",
    "$$\n",
    "- La variance est : \n",
    "$$\n",
    "variance = \\frac {2d_2^2(d_1 + d_2)}{d_1(d_2 - 2)^2(d_2 - 4)}\n",
    "$$\n"
   ]
  }
 ],
 "metadata": {
  "kernelspec": {
   "display_name": "Python 3",
   "language": "python",
   "name": "python3"
  },
  "language_info": {
   "codemirror_mode": {
    "name": "ipython",
    "version": 3
   },
   "file_extension": ".py",
   "mimetype": "text/x-python",
   "name": "python",
   "nbconvert_exporter": "python",
   "pygments_lexer": "ipython3",
   "version": "3.13.7"
  }
 },
 "nbformat": 4,
 "nbformat_minor": 5
}
